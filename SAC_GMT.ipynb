{
 "cells": [
  {
   "cell_type": "markdown",
   "metadata": {
    "toc": true
   },
   "source": [
    "<h1>Contents<span class=\"tocSkip\"></span></h1>\n",
    "<div class=\"toc\"><ul class=\"toc-item\"><li><span><a href=\"#SHELL\" data-toc-modified-id=\"SHELL-1\"><span class=\"toc-item-num\">1&nbsp;&nbsp;</span>SHELL</a></span><ul class=\"toc-item\"><li><span><a href=\"#convert-issue\" data-toc-modified-id=\"convert-issue-1.1\"><span class=\"toc-item-num\">1.1&nbsp;&nbsp;</span>convert issue</a></span></li></ul></li></ul></div>"
   ]
  },
  {
   "cell_type": "markdown",
   "metadata": {},
   "source": [
    "# SAC/GMT/SHELL\n",
    "\n",
    "## SHELL\n",
    "\n",
    "### convert issue\n",
    "\n",
    "- convert *.ps to *.pdf\n",
    "  - use `ps2pdf`(maybe can not read the RGB color in the window system)\n",
    "  - use `inkscape filename.ps -A filename.pdf -d 300`(the inkscape is the open source painting app)"
   ]
  },
  {
   "cell_type": "code",
   "execution_count": null,
   "metadata": {},
   "outputs": [],
   "source": []
  }
 ],
 "metadata": {
  "kernelspec": {
   "display_name": "Python 3",
   "language": "python",
   "name": "python3"
  },
  "language_info": {
   "codemirror_mode": {
    "name": "ipython",
    "version": 3
   },
   "file_extension": ".py",
   "mimetype": "text/x-python",
   "name": "python",
   "nbconvert_exporter": "python",
   "pygments_lexer": "ipython3",
   "version": "3.7.3"
  },
  "toc": {
   "base_numbering": 1,
   "nav_menu": {},
   "number_sections": true,
   "sideBar": true,
   "skip_h1_title": true,
   "title_cell": "Contents",
   "title_sidebar": "Contents",
   "toc_cell": true,
   "toc_position": {},
   "toc_section_display": true,
   "toc_window_display": false
  }
 },
 "nbformat": 4,
 "nbformat_minor": 4
}
