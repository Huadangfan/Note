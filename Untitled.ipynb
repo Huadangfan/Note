{
 "cells": [
  {
   "cell_type": "markdown",
   "metadata": {
    "toc": true
   },
   "source": [
    "<h1>Contents<span class=\"tocSkip\"></span></h1>\n",
    "<div class=\"toc\"><ul class=\"toc-item\"><li><span><a href=\"#反演方法分类\" data-toc-modified-id=\"反演方法分类-1\"><span class=\"toc-item-num\">1&nbsp;&nbsp;</span>反演方法分类</a></span></li><li><span><a href=\"#双平面波\" data-toc-modified-id=\"双平面波-2\"><span class=\"toc-item-num\">2&nbsp;&nbsp;</span>双平面波</a></span></li><li><span><a href=\"#波动方程\" data-toc-modified-id=\"波动方程-3\"><span class=\"toc-item-num\">3&nbsp;&nbsp;</span>波动方程</a></span></li><li><span><a href=\"#南极洲\" data-toc-modified-id=\"南极洲-4\"><span class=\"toc-item-num\">4&nbsp;&nbsp;</span>南极洲</a></span></li></ul></div>"
   ]
  },
  {
   "cell_type": "markdown",
   "metadata": {},
   "source": [
    "# Inversion Problem"
   ]
  },
  {
   "cell_type": "markdown",
   "metadata": {},
   "source": [
    "## 反演方法分类\n",
    "- 最小平方反演\n",
    "$$\n",
    "Q=||d-Gm||_2\\to min\n",
    "$$\n",
    "\n",
    "- 最大后验反演或最大似然反演\n",
    "$$\n",
    "Q=P(m|d)\\to max\n",
    "$$"
   ]
  },
  {
   "cell_type": "markdown",
   "metadata": {},
   "source": [
    "## 双平面波\n",
    "- 将非平面波能量考虑进去\n",
    "\n",
    "经仪器校正、滤波和加窗后，通过傅里叶分析确定所选频率的瑞利波振幅和相位。\n"
   ]
  },
  {
   "cell_type": "markdown",
   "metadata": {},
   "source": [
    "## 波动方程\n",
    "\n",
    "- 波动方程\n",
    "\n",
    "$$\n",
    "\\frac{\\partial^2u}{\\partial t^2}=c^2\\nabla^2u=\\frac{1}{v^2}\\nabla^2u\n",
    "$$"
   ]
  },
  {
   "cell_type": "markdown",
   "metadata": {},
   "source": [
    "## 南极洲\n",
    "\n",
    "- 地震数据选择条件\n",
    "    - 震级>5.9级（可能是矩震级）\n",
    "    - 震源深度：<100Km\n",
    "    - 震中距：25°-120°\n",
    "    - 台站：2015-2017年数据\n",
    "    \n",
    "> *矩震级*：可用断层面积 S、断层面的平均位错量和剪切模量 μ 的乘积定义地震矩。\n",
    "\n",
    "> *里氏震级*：震中距在100公里处记录的振幅的对数。\n",
    "\n",
    "> *面波震级*：指根据面波计算出来的震级，以符号Ms表示。面波水平方向最大地动位移及其对应的周期。\n",
    "\n",
    "- 处理流程\n",
    "    - 对数据筛选，删除较少台站记录的事件\n",
    "    - 分类管理，把数据按事件归类\n",
    "    - 去仪器相应、分量旋转\n",
    "    - 求包络、切波形\n",
    "    - 再筛选数据，删掉较少台站记录的事件\n",
    "    - 用双平面波方法反演频散"
   ]
  },
  {
   "cell_type": "code",
   "execution_count": null,
   "metadata": {},
   "outputs": [],
   "source": []
  }
 ],
 "metadata": {
  "kernelspec": {
   "display_name": "Python 3",
   "language": "python",
   "name": "python3"
  },
  "language_info": {
   "codemirror_mode": {
    "name": "ipython",
    "version": 3
   },
   "file_extension": ".py",
   "mimetype": "text/x-python",
   "name": "python",
   "nbconvert_exporter": "python",
   "pygments_lexer": "ipython3",
   "version": "3.7.3"
  },
  "toc": {
   "base_numbering": 1,
   "nav_menu": {},
   "number_sections": true,
   "sideBar": true,
   "skip_h1_title": true,
   "title_cell": "Contents",
   "title_sidebar": "Contents",
   "toc_cell": true,
   "toc_position": {},
   "toc_section_display": true,
   "toc_window_display": false
  }
 },
 "nbformat": 4,
 "nbformat_minor": 4
}
